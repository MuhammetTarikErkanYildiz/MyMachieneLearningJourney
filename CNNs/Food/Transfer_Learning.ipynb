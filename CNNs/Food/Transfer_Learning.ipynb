{
  "nbformat": 4,
  "nbformat_minor": 0,
  "metadata": {
    "colab": {
      "name": "Transfer_Learning.ipynb",
      "provenance": [],
      "collapsed_sections": []
    },
    "kernelspec": {
      "name": "python3",
      "display_name": "Python 3"
    },
    "language_info": {
      "name": "python"
    },
    "accelerator": "GPU"
  },
  "cells": [
    {
      "cell_type": "markdown",
      "source": [
        "### Transfer Learning Feature Extraction part1:"
      ],
      "metadata": {
        "id": "vJ-fyb6zXjqO"
      }
    },
    {
      "cell_type": "code",
      "source": [
        "import zipfile\n",
        "!wget https://storage.googleapis.com/ztm_tf_course/food_vision/10_food_classes_10_percent.zip\n",
        "zip_ref= zipfile.ZipFile(\"10_food_classes_10_percent.zip\")\n",
        "zip_ref.extractall()\n",
        "zip_ref.close()"
      ],
      "metadata": {
        "colab": {
          "base_uri": "https://localhost:8080/"
        },
        "id": "UcYrCeqbXYoS",
        "outputId": "30633a63-a25a-47c5-e069-edf90af56850"
      },
      "execution_count": null,
      "outputs": [
        {
          "output_type": "stream",
          "name": "stdout",
          "text": [
            "--2022-02-11 12:31:56--  https://storage.googleapis.com/ztm_tf_course/food_vision/10_food_classes_10_percent.zip\n",
            "Resolving storage.googleapis.com (storage.googleapis.com)... 142.250.159.128, 74.125.126.128, 74.125.69.128, ...\n",
            "Connecting to storage.googleapis.com (storage.googleapis.com)|142.250.159.128|:443... connected.\n",
            "HTTP request sent, awaiting response... 200 OK\n",
            "Length: 168546183 (161M) [application/zip]\n",
            "Saving to: ‘10_food_classes_10_percent.zip.1’\n",
            "\n",
            "10_food_classes_10_ 100%[===================>] 160.74M   221MB/s    in 0.7s    \n",
            "\n",
            "2022-02-11 12:31:57 (221 MB/s) - ‘10_food_classes_10_percent.zip.1’ saved [168546183/168546183]\n",
            "\n"
          ]
        }
      ]
    },
    {
      "cell_type": "code",
      "execution_count": null,
      "metadata": {
        "colab": {
          "base_uri": "https://localhost:8080/"
        },
        "id": "JjVBaFvdXARo",
        "outputId": "4de3a926-8070-4ebd-df6a-a446910ab76d"
      },
      "outputs": [
        {
          "output_type": "stream",
          "name": "stdout",
          "text": [
            "There are 2 directories and 0 images in 10_food_classes_10_percent. \n",
            "There are 10 directories and 0 images in 10_food_classes_10_percent/test. \n",
            "There are 0 directories and 250 images in 10_food_classes_10_percent/test/hamburger. \n",
            "There are 0 directories and 250 images in 10_food_classes_10_percent/test/fried_rice. \n",
            "There are 0 directories and 250 images in 10_food_classes_10_percent/test/steak. \n",
            "There are 0 directories and 250 images in 10_food_classes_10_percent/test/ice_cream. \n",
            "There are 0 directories and 250 images in 10_food_classes_10_percent/test/grilled_salmon. \n",
            "There are 0 directories and 250 images in 10_food_classes_10_percent/test/chicken_wings. \n",
            "There are 0 directories and 250 images in 10_food_classes_10_percent/test/sushi. \n",
            "There are 0 directories and 250 images in 10_food_classes_10_percent/test/pizza. \n",
            "There are 0 directories and 250 images in 10_food_classes_10_percent/test/ramen. \n",
            "There are 0 directories and 250 images in 10_food_classes_10_percent/test/chicken_curry. \n",
            "There are 10 directories and 0 images in 10_food_classes_10_percent/train. \n",
            "There are 0 directories and 75 images in 10_food_classes_10_percent/train/hamburger. \n",
            "There are 0 directories and 75 images in 10_food_classes_10_percent/train/fried_rice. \n",
            "There are 0 directories and 75 images in 10_food_classes_10_percent/train/steak. \n",
            "There are 0 directories and 75 images in 10_food_classes_10_percent/train/ice_cream. \n",
            "There are 0 directories and 75 images in 10_food_classes_10_percent/train/grilled_salmon. \n",
            "There are 0 directories and 75 images in 10_food_classes_10_percent/train/chicken_wings. \n",
            "There are 0 directories and 75 images in 10_food_classes_10_percent/train/sushi. \n",
            "There are 0 directories and 75 images in 10_food_classes_10_percent/train/pizza. \n",
            "There are 0 directories and 75 images in 10_food_classes_10_percent/train/ramen. \n",
            "There are 0 directories and 75 images in 10_food_classes_10_percent/train/chicken_curry. \n"
          ]
        }
      ],
      "source": [
        "import os\n",
        "\n",
        "for dirpath,dirnames,filenames in os.walk(\"10_food_classes_10_percent\"):\n",
        "  print(f\"There are {len(dirnames)} directories and {len(filenames)} images in {dirpath}. \")"
      ]
    },
    {
      "cell_type": "code",
      "source": [
        "import tensorflow as tf\n",
        "from tensorflow.keras.preprocessing.image import ImageDataGenerator\n",
        "IMAGE_SHAPE=(224,224)\n",
        "BATCH_SIZE= 32\n",
        "\n",
        "train_dir=\"10_food_classes_10_percent/train/\"\n",
        "test_dir=\"10_food_classes_10_percent/test/\"\n",
        "\n",
        "train_datagen= ImageDataGenerator(rescale=1/255.)\n",
        "test_datagen= ImageDataGenerator(rescale=1/255.)\n",
        "\n",
        "train_data_10_percent= train_datagen.flow_from_directory(train_dir,\n",
        "                                                           target_size=IMAGE_SHAPE,\n",
        "                                                           batch_size=BATCH_SIZE,\n",
        "                                                           class_mode=\"categorical\")\n",
        "test_data= test_datagen.flow_from_directory(test_dir,\n",
        "                                                           target_size=IMAGE_SHAPE,\n",
        "                                                           batch_size=BATCH_SIZE,\n",
        "                                                           class_mode=\"categorical\")\n"
      ],
      "metadata": {
        "colab": {
          "base_uri": "https://localhost:8080/"
        },
        "id": "3l9LYloKYpR7",
        "outputId": "4716b4c8-34f9-4a91-cdad-d00218d5648c"
      },
      "execution_count": null,
      "outputs": [
        {
          "output_type": "stream",
          "name": "stdout",
          "text": [
            "Found 750 images belonging to 10 classes.\n",
            "Found 2500 images belonging to 10 classes.\n"
          ]
        }
      ]
    },
    {
      "cell_type": "markdown",
      "source": [
        "## The Callbacks\n",
        "* Tracing Experiments\n",
        "* Model Checkpoint\n",
        "* prevent overfitting"
      ],
      "metadata": {
        "id": "8XKZgnMBaV9u"
      }
    },
    {
      "cell_type": "code",
      "source": [
        ""
      ],
      "metadata": {
        "id": "cS_CgMRHSQTl"
      },
      "execution_count": null,
      "outputs": []
    },
    {
      "cell_type": "code",
      "source": [
        "# Function for callbacks\n",
        "from datetime import datetime\n",
        "\n",
        "def create_tensorboard_callback(dir_name,experiment_name):\n",
        "  log_dir= dir_name+\"/\"+experiment_name+\"/\"+datetime.now().strftime(\"%Y%m%d-%H%M%S\")\n",
        "  tensorboard_callback= tf.keras.callbacks.TensorBoard(log_dir=log_dir)\n",
        "  print(f\"Saving TensorBoard log files to: {log_dir}\")\n",
        "  return tensorboard_callback\n"
      ],
      "metadata": {
        "id": "E6gdhLhfaFFU"
      },
      "execution_count": null,
      "outputs": []
    },
    {
      "cell_type": "markdown",
      "source": [
        "### Creating models with using \n",
        "* TensorFlow HUB\n",
        "* paperswithcode\n",
        "* ImageNet\n",
        "\n",
        "https://tfhub.dev/google/efficientnet/b0/feature-vector/1"
      ],
      "metadata": {
        "id": "zEBNlYdhchCh"
      }
    },
    {
      "cell_type": "code",
      "source": [
        "# comparing models\n",
        "efficientnet_url=\"https://tfhub.dev/google/efficientnet/b0/feature-vector/1\"\n",
        "resnet_url= \"https://tfhub.dev/google/imagenet/resnet_v2_50/feature_vector/5\"\n",
        "mobil_net=\"https://tfhub.dev/google/imagenet/mobilenet_v2_100_224/feature_vector/4\"\n",
        "xxnet= \"https://tfhub.dev/google/supcon/resnet_v1_200/imagenet/classification/1\""
      ],
      "metadata": {
        "id": "_hp5HL1Rcge-"
      },
      "execution_count": null,
      "outputs": []
    },
    {
      "cell_type": "code",
      "source": [
        "import tensorflow as tf\n",
        "import tensorflow_hub as hub\n",
        "from tensorflow.keras import layers"
      ],
      "metadata": {
        "id": "STvBKRoUccUw"
      },
      "execution_count": null,
      "outputs": []
    },
    {
      "cell_type": "code",
      "source": [
        "def create_model(model_url,num_classes=10):\n",
        "  \"\"\"\n",
        "  This function takes Tensorflow Hub URL and creates model\n",
        "  model_url(str)\n",
        "  num_classes(int): targeted class bumber\n",
        "  it return a sequential model\n",
        "  \"\"\"\n",
        "  feature_extractor_layer= hub.KerasLayer(model_url,\n",
        "                                          trainable=False,\n",
        "                                          name=\"feature_extracter_layer\",\n",
        "                                          input_shape=IMAGE_SHAPE+(3,))\n",
        "  #create a model\n",
        "  model = tf.keras.Sequential([\n",
        "    feature_extractor_layer,\n",
        "    layers.Dense(num_classes, activation=\"softmax\",name=\"output_layer\")\n",
        "  ])\n",
        "  return model"
      ],
      "metadata": {
        "id": "cyOdmpcKMENS"
      },
      "execution_count": null,
      "outputs": []
    },
    {
      "cell_type": "code",
      "source": [
        "#Create resnet model \n",
        "xxnet_model= create_model(xxnet_url,\n",
        "                          10)"
      ],
      "metadata": {
        "id": "VIotBys8OKVo"
      },
      "execution_count": null,
      "outputs": []
    },
    {
      "cell_type": "code",
      "source": [
        "resnet_model.summary()"
      ],
      "metadata": {
        "colab": {
          "base_uri": "https://localhost:8080/"
        },
        "id": "xCrHrDlQO9k1",
        "outputId": "d7dfd1d8-dc5e-4776-fc92-13de4f44971a"
      },
      "execution_count": null,
      "outputs": [
        {
          "output_type": "stream",
          "name": "stdout",
          "text": [
            "Model: \"sequential\"\n",
            "_________________________________________________________________\n",
            " Layer (type)                Output Shape              Param #   \n",
            "=================================================================\n",
            " feature_extracter_layer (Ke  (None, 2048)             23564800  \n",
            " rasLayer)                                                       \n",
            "                                                                 \n",
            " output_layer (Dense)        (None, 10)                20490     \n",
            "                                                                 \n",
            "=================================================================\n",
            "Total params: 23,585,290\n",
            "Trainable params: 20,490\n",
            "Non-trainable params: 23,564,800\n",
            "_________________________________________________________________\n"
          ]
        }
      ]
    },
    {
      "cell_type": "code",
      "source": [
        "xxnet_model.compile(loss= \"categorical_crossentropy\",\n",
        "                     optimizer= tf.keras.optimizers.Adam(),\n",
        "                     metrics=[\"accuracy\"])"
      ],
      "metadata": {
        "id": "I-6K0z3DPifd"
      },
      "execution_count": null,
      "outputs": []
    },
    {
      "cell_type": "code",
      "source": [
        "#Fitting the model\n",
        "xxnet_history= xxnet_model.fit(train_data_10_percent,\n",
        "                                 epochs=5,\n",
        "                                 steps_per_epoch=len(train_data_10_percent),\n",
        "                                 validation_data= test_data,\n",
        "                                 validation_steps=len(test_data),\n",
        "                                 callbacks=[create_tensorboard_callback(dir_name=\"tesnsorflow_hub\",\n",
        "                                                                       experiment_name=\"resnet50v2\")])"
      ],
      "metadata": {
        "colab": {
          "base_uri": "https://localhost:8080/"
        },
        "id": "ML0bmMJsP6uj",
        "outputId": "c75735dd-dab7-4434-a452-cf0538795349"
      },
      "execution_count": null,
      "outputs": [
        {
          "output_type": "stream",
          "name": "stdout",
          "text": [
            "Saving TensorBoard log files to: tesnsorflow_hub/resnet50v2/20220211-123250\n",
            "Epoch 1/5\n",
            "24/24 [==============================] - 37s 1s/step - loss: 1.9606 - accuracy: 0.3507 - val_loss: 1.1725 - val_accuracy: 0.6256\n",
            "Epoch 2/5\n",
            "24/24 [==============================] - 23s 989ms/step - loss: 0.9129 - accuracy: 0.7253 - val_loss: 0.8356 - val_accuracy: 0.7288\n",
            "Epoch 3/5\n",
            "24/24 [==============================] - 21s 912ms/step - loss: 0.6301 - accuracy: 0.8147 - val_loss: 0.7329 - val_accuracy: 0.7592\n",
            "Epoch 4/5\n",
            "24/24 [==============================] - 22s 924ms/step - loss: 0.4792 - accuracy: 0.8747 - val_loss: 0.6894 - val_accuracy: 0.7820\n",
            "Epoch 5/5\n",
            "24/24 [==============================] - 21s 896ms/step - loss: 0.3810 - accuracy: 0.9093 - val_loss: 0.6581 - val_accuracy: 0.7836\n"
          ]
        }
      ]
    },
    {
      "cell_type": "markdown",
      "source": [
        "### Power of Transfer Learning"
      ],
      "metadata": {
        "id": "ys1TMsnDUOUG"
      }
    },
    {
      "cell_type": "code",
      "source": [
        "import matplotlib.pyplot as plt\n",
        "\n",
        "def plot_loss_curves(history):\n",
        "\n",
        "  loss= history.history[\"loss\"]\n",
        "  val_loss= history.history[\"val_loss\"]\n",
        "\n",
        "  accuracy= history.history[\"accuracy\"]\n",
        "  val_accuracy= history.history[\"val_accuracy\"]\n",
        "  epochs=range(len(history.history[\"loss\"]))\n",
        "  #plot loss\n",
        "  plt.plot(epochs, loss, label=\"Training_Loss\")\n",
        "  plt.plot(epochs, val_loss, label=\"val_loss\")\n",
        "  plt.title(\"Loss\")\n",
        "  plt.xlabel(\"Epochs\")\n",
        "  plt.legend();\n",
        "\n",
        "   #plot loss\n",
        "  plt.figure()\n",
        "  plt.plot(epochs, accuracy, label=\"Training_accuracy\")\n",
        "  plt.plot(epochs, val_accuracy, label=\"val_accuracy\")\n",
        "  plt.title(\"accuracy\")\n",
        "  plt.xlabel(\"Epochs\")\n",
        "  plt.legend();"
      ],
      "metadata": {
        "id": "BQENxvLrUNPm"
      },
      "execution_count": null,
      "outputs": []
    },
    {
      "cell_type": "code",
      "source": [
        "plot_loss_curves(resnet_history)"
      ],
      "metadata": {
        "colab": {
          "base_uri": "https://localhost:8080/",
          "height": 573
        },
        "id": "sS0KuDUSRQt7",
        "outputId": "6e22541d-cb1d-470a-d1e1-fcd0592c2bdb"
      },
      "execution_count": null,
      "outputs": [
        {
          "output_type": "display_data",
          "data": {
            "image/png": "[encoded data removed]",
            "text/plain": [
              "<Figure size 432x288 with 1 Axes>"
            ]
          },
          "metadata": {
            "needs_background": "light"
          }
        },
        {
          "output_type": "display_data",
          "data": {
            "image/png": "[encoded data removed]",
            "text/plain": [
              "<Figure size 432x288 with 1 Axes>"
            ]
          },
          "metadata": {
            "needs_background": "light"
          }
        }
      ]
    },
    {
      "cell_type": "code",
      "source": [
        "#Create resnet model \n",
        "efficientnet_model= create_model(efficientnet_url,\n",
        "                          10)\n",
        "\n",
        "efficientnet_model.compile(loss= \"categorical_crossentropy\",\n",
        "                     optimizer= tf.keras.optimizers.Adam(),\n",
        "                     metrics=[\"accuracy\"])\n",
        "\n",
        "#Fitting the model\n",
        "efficientnet_history= efficientnet_model.fit(train_data_10_percent,\n",
        "                                 epochs=5,\n",
        "                                 steps_per_epoch=len(train_data_10_percent),\n",
        "                                 validation_data= test_data,\n",
        "                                 validation_steps=len(test_data),\n",
        "                                 callbacks=[create_tensorboard_callback(dir_name=\"tesnsorflow_hub\",\n",
        "                                                                       experiment_name=\"efficientnet\")])"
      ],
      "metadata": {
        "id": "mFwUU225WmBn",
        "colab": {
          "base_uri": "https://localhost:8080/"
        },
        "outputId": "0733f8d5-a235-42ea-9251-652bcfc90057"
      },
      "execution_count": null,
      "outputs": [
        {
          "output_type": "stream",
          "name": "stdout",
          "text": [
            "Saving TensorBoard log files to: tesnsorflow_hub/efficientnet/20220211-123743\n",
            "Epoch 1/5\n",
            "24/24 [==============================] - 25s 854ms/step - loss: 1.8423 - accuracy: 0.4213 - val_loss: 1.2814 - val_accuracy: 0.7248\n",
            "Epoch 2/5\n",
            "24/24 [==============================] - 20s 864ms/step - loss: 1.0605 - accuracy: 0.7693 - val_loss: 0.8625 - val_accuracy: 0.8156\n",
            "Epoch 3/5\n",
            "24/24 [==============================] - 18s 784ms/step - loss: 0.7593 - accuracy: 0.8440 - val_loss: 0.6930 - val_accuracy: 0.8396\n",
            "Epoch 4/5\n",
            "24/24 [==============================] - 18s 772ms/step - loss: 0.6060 - accuracy: 0.8707 - val_loss: 0.6084 - val_accuracy: 0.8524\n",
            "Epoch 5/5\n",
            "24/24 [==============================] - 18s 780ms/step - loss: 0.5122 - accuracy: 0.8947 - val_loss: 0.5557 - val_accuracy: 0.8572\n"
          ]
        }
      ]
    },
    {
      "cell_type": "code",
      "source": [
        "plot_loss_curves(resnet_history)"
      ],
      "metadata": {
        "colab": {
          "base_uri": "https://localhost:8080/",
          "height": 573
        },
        "id": "l8aELw-IX5BF",
        "outputId": "acd21dac-31cd-4edf-da5e-91ccab70f71d"
      },
      "execution_count": null,
      "outputs": [
        {
          "output_type": "display_data",
          "data": {
            "image/png": "[encoded data removed]",
            "text/plain": [
              "<Figure size 432x288 with 1 Axes>"
            ]
          },
          "metadata": {
            "needs_background": "light"
          }
        },
        {
          "output_type": "display_data",
          "data": {
            "image/png": "[encoded data removed]",
            "text/plain": [
              "<Figure size 432x288 with 1 Axes>"
            ]
          },
          "metadata": {
            "needs_background": "light"
          }
        }
      ]
    },
    {
      "cell_type": "code",
      "source": [
        "efficientnet_model.summary()"
      ],
      "metadata": {
        "id": "gGAlgb7jYPwC",
        "colab": {
          "base_uri": "https://localhost:8080/"
        },
        "outputId": "63ec5b24-0bd5-494e-bb5b-cdbc6806d2ef"
      },
      "execution_count": null,
      "outputs": [
        {
          "output_type": "stream",
          "name": "stdout",
          "text": [
            "Model: \"sequential_3\"\n",
            "_________________________________________________________________\n",
            " Layer (type)                Output Shape              Param #   \n",
            "=================================================================\n",
            " feature_extracter_layer (Ke  (None, 1280)             4049564   \n",
            " rasLayer)                                                       \n",
            "                                                                 \n",
            " output_layer (Dense)        (None, 10)                12810     \n",
            "                                                                 \n",
            "=================================================================\n",
            "Total params: 4,062,374\n",
            "Trainable params: 12,810\n",
            "Non-trainable params: 4,049,564\n",
            "_________________________________________________________________\n"
          ]
        }
      ]
    },
    {
      "cell_type": "markdown",
      "source": [
        "## Comparing Results with using Tensorboard"
      ],
      "metadata": {
        "id": "3MHpb9pI1mcs"
      }
    },
    {
      "cell_type": "code",
      "source": [
        "#TensorBoard\n",
        "!tensorboard dev upload --logdir ./tesnsorflow_hub/ \\\n",
        "  --name \"Efficient vs Resnet\" \\\n",
        "  --description \"Comparing 2 tf Hub feature extraction model\"\\\n",
        "  --one_shot"
      ],
      "metadata": {
        "id": "3HjqqpneYhFa",
        "colab": {
          "base_uri": "https://localhost:8080/"
        },
        "outputId": "17b89e5a-0f71-4f7a-9786-b774778ba2bd"
      },
      "execution_count": null,
      "outputs": [
        {
          "output_type": "stream",
          "name": "stdout",
          "text": [
            "\n",
            "***** TensorBoard Uploader *****\n",
            "\n",
            "This will upload your TensorBoard logs to https://tensorboard.dev/ from\n",
            "the following directory:\n",
            "\n",
            "./tesnsorflow_hub/\n",
            "\n",
            "This TensorBoard will be visible to everyone. Do not upload sensitive\n",
            "data.\n",
            "\n",
            "Your use of this service is subject to Google's Terms of Service\n",
            "<https://policies.google.com/terms> and Privacy Policy\n",
            "<https://policies.google.com/privacy>, and TensorBoard.dev's Terms of Service\n",
            "<https://tensorboard.dev/policy/terms/>.\n",
            "\n",
            "This notice will not be shown again while you are logged into the uploader.\n",
            "To log out, run `tensorboard dev auth revoke`.\n",
            "\n",
            "Continue? (yes/NO) yes\n",
            "\n",
            "Please visit this URL to authorize this application: https://accounts.google.com/o/oauth2/auth?response_type=code&client_id=373649185512-8v619h5kft38l4456nm2dj4ubeqsrvh6.apps.googleusercontent.com&redirect_uri=urn%3Aietf%3Awg%3Aoauth%3A2.0%3Aoob&scope=openid+https%3A%2F%2Fwww.googleapis.com%2Fauth%2Fuserinfo.email&state=5dAxs2ZUcfuCzRNubj68kjb6VzSNdz&prompt=consent&access_type=offline\n",
            "Enter the authorization code: 4/1AX4XfWjCuJs0Uy_iEn4K_JEQCIx2epotlupXMgZd6cGG545xZzHr7ya3xPc\n",
            "\n",
            "\n",
            "New experiment created. View your TensorBoard at: https://tensorboard.dev/experiment/RdpUKC9mS4qyMkzPNZgfpw/\n",
            "\n",
            "\u001b[1m[2022-02-11T12:56:22]\u001b[0m Started scanning logdir.\n",
            "\u001b[1m[2022-02-11T12:56:24]\u001b[0m Total uploaded: 60 scalars, 0 tensors, 2 binary objects (3.0 MB)\n",
            "\u001b[1m[2022-02-11T12:56:24]\u001b[0m Done scanning logdir.\n",
            "\n",
            "\n",
            "Done. View your TensorBoard at https://tensorboard.dev/experiment/RdpUKC9mS4qyMkzPNZgfpw/\n"
          ]
        }
      ]
    },
    {
      "cell_type": "markdown",
      "source": [
        "### The tensor board is cool but it does not accept private datas so be carefull when you use it\n",
        "https://tensorboard.dev/experiment/RdpUKC9mS4qyMkzPNZgfpw/ \n",
        "\n",
        "* weight and biases can be replaced with tensorboard"
      ],
      "metadata": {
        "id": "chuFLq6724-P"
      }
    },
    {
      "cell_type": "code",
      "source": [
        "!tensorboard dev list"
      ],
      "metadata": {
        "colab": {
          "base_uri": "https://localhost:8080/"
        },
        "id": "QfJphOdx3u2x",
        "outputId": "d8898015-d192-48c7-ba5f-2499476a01ba"
      },
      "execution_count": null,
      "outputs": [
        {
          "output_type": "stream",
          "name": "stdout",
          "text": [
            "https://tensorboard.dev/experiment/RdpUKC9mS4qyMkzPNZgfpw/\n",
            "\tName                 Efficient vs Resnet\n",
            "\tDescription          Comparing 2 tf Hub feature extraction model\n",
            "\tId                   RdpUKC9mS4qyMkzPNZgfpw\n",
            "\tCreated              2022-02-11 12:56:22 (4 minutes ago)\n",
            "\tUpdated              2022-02-11 12:56:24 (4 minutes ago)\n",
            "\tRuns                 4\n",
            "\tTags                 5\n",
            "\tScalars              60\n",
            "\tTensor bytes         0\n",
            "\tBinary object bytes  3138469\n",
            "Total: 1 experiment(s)\n"
          ]
        }
      ]
    },
    {
      "cell_type": "markdown",
      "source": [
        "# Yeni Bölüm"
      ],
      "metadata": {
        "id": "i9b0LRBm57wo"
      }
    },
    {
      "cell_type": "code",
      "source": [
        "#delete and experiment\n",
        "!tensorboard dev delete --experiment_id RdpUKC9mS4qyMkzPNZgfpw"
      ],
      "metadata": {
        "colab": {
          "base_uri": "https://localhost:8080/"
        },
        "id": "FSdAS8oT31LA",
        "outputId": "faf482d3-0ded-4371-9a6c-afabd915deb5"
      },
      "execution_count": null,
      "outputs": [
        {
          "output_type": "stream",
          "name": "stdout",
          "text": [
            "Deleted experiment RdpUKC9mS4qyMkzPNZgfpw.\n"
          ]
        }
      ]
    },
    {
      "cell_type": "markdown",
      "source": [
        ""
      ],
      "metadata": {
        "id": "5bR5gv-rBxgl"
      }
    }
  ]
}