{
 "cells": [
  {
   "cell_type": "code",
   "execution_count": null,
   "id": "d4ba15e5",
   "metadata": {},
   "outputs": [],
   "source": [
    "import cv2\n",
    "import os\n",
    "import tensorflow as tf\n",
    "import numpy as np"
   ]
  },
  {
   "cell_type": "code",
   "execution_count": null,
   "id": "da2fdb71",
   "metadata": {},
   "outputs": [],
   "source": [
    "face_cascade = cv2.CascadeClassifier('haarcascade_frontalface_alt2.xml')"
   ]
  },
  {
   "cell_type": "code",
   "execution_count": null,
   "id": "eb0abc3c",
   "metadata": {},
   "outputs": [],
   "source": [
    "video_capture = cv2.VideoCapture(0)\n",
    "while True:\n",
    "    # Capture frame-by-frame\n",
    "    ret, frames = video_capture.read()\n",
    "    gray = cv2.cvtColor(frames, cv2.COLOR_BGR2GRAY)\n",
    "    faces = face_cascade.detectMultiScale(\n",
    "        gray,\n",
    "        scaleFactor=1.1,\n",
    "        minNeighbors=5,\n",
    "        minSize=(30, 30),\n",
    "        flags=cv2.CASCADE_SCALE_IMAGE\n",
    "    )\n",
    "    # Draw a rectangle around the faces\n",
    "    for (x, y, w, h) in faces:\n",
    "        cv2.rectangle(frames, (x, y), (x+w, y+h), (0, 255, 0), 2)\n",
    "    # Display the resulting frame\n",
    "    \n",
    "        faces = frames[(y+2):(y-2) + (h-2), (x+2):(x-2) + (w-2)]\n",
    "         \n",
    "    faces=cv2.resize(faces, (48, 48))\n",
    "    faces= cv2.cvtColor(faces, cv2.COLOR_BGR2GRAY)\n",
    "    faces = faces.reshape(1,48,48,-1)\n",
    "    \n",
    "    data_prob=new_model.predict(faces)\n",
    "    preds=data_prob.argmax(axis=1)\n",
    "    \n",
    "    cv2.putText(frames, f'{class_names[preds[0]]}', (x, y-12), cv2.FONT_HERSHEY_SIMPLEX, 0.9, (30,255,30), 2)\n",
    "    cv2.imshow('Video', frames)\n",
    "    if cv2.waitKey(1) & 0xFF == ord('q'):\n",
    "        break\n"
   ]
  },
  {
   "cell_type": "code",
   "execution_count": null,
   "id": "0637fb60",
   "metadata": {},
   "outputs": [],
   "source": [
    "## test\n",
    "import numpy as np\n",
    "import cv2\n",
    "  \n",
    "  \n",
    "cap = cv2.VideoCapture(0)\n",
    "while(cap.isOpened()):q\n",
    "      \n",
    "    while True:\n",
    "          \n",
    "        ret, img = cap.read()\n",
    "        cv2.imshow('img', img)\n",
    "        if cv2.waitKey(30) & 0xff == ord('q'):\n",
    "            break\n",
    "              q\n",
    "    cap.release()\n",
    "    cv2.destroyAllWindows()\n",
    "else:\n",
    "    print(\"Alert ! Camera disconnected\")"
   ]
  },
  {
   "cell_type": "code",
   "execution_count": null,
   "id": "33e5fba0",
   "metadata": {},
   "outputs": [],
   "source": [
    "#Importing our model\n",
    "new_model = tf.keras.models.load_model('model_18_85.h5')"
   ]
  },
  {
   "cell_type": "code",
   "execution_count": null,
   "id": "9175ba17",
   "metadata": {},
   "outputs": [],
   "source": [
    "class_names= ['angry', 'disgust', 'fear', 'happy', 'neutral',\n",
    "               'sad', 'surprised']"
   ]
  },
  {
   "cell_type": "code",
   "execution_count": null,
   "id": "f5417f24",
   "metadata": {},
   "outputs": [],
   "source": [
    "class_names[6]"
   ]
  },
  {
   "cell_type": "code",
   "execution_count": null,
   "id": "63b4e1f8",
   "metadata": {},
   "outputs": [],
   "source": [
    "image = cv2.imread('imgeler/ha.jpg')\n",
    "\n",
    "gray=cv2.resize(image, (48, 48))\n",
    "gray= cv2.cvtColor(gray, cv2.COLOR_BGR2GRAY)\n",
    "gray = gray.reshape(1,48,48,1)\n",
    "\n",
    "\n",
    "data_prob=new_model.predict(gray)\n",
    "preds=data_prob.argmax(axis=1)\n",
    "print(class_names[preds[0]])"
   ]
  },
  {
   "cell_type": "code",
   "execution_count": null,
   "id": "86110430",
   "metadata": {},
   "outputs": [],
   "source": [
    "64*64"
   ]
  },
  {
   "cell_type": "code",
   "execution_count": null,
   "id": "0942cabb",
   "metadata": {},
   "outputs": [],
   "source": []
  }
 ],
 "metadata": {
  "kernelspec": {
   "display_name": "Python 3 (ipykernel)",
   "language": "python",
   "name": "python3"
  },
  "language_info": {
   "codemirror_mode": {
    "name": "ipython",
    "version": 3
   },
   "file_extension": ".py",
   "mimetype": "text/x-python",
   "name": "python",
   "nbconvert_exporter": "python",
   "pygments_lexer": "ipython3",
   "version": "3.8.11"
  }
 },
 "nbformat": 4,
 "nbformat_minor": 5
}
